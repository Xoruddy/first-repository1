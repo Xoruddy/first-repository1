{
  "nbformat": 4,
  "nbformat_minor": 0,
  "metadata": {
    "colab": {
      "provenance": [],
      "include_colab_link": true
    },
    "kernelspec": {
      "name": "python3",
      "display_name": "Python 3"
    },
    "language_info": {
      "name": "python"
    }
  },
  "cells": [
    {
      "cell_type": "markdown",
      "metadata": {
        "id": "view-in-github",
        "colab_type": "text"
      },
      "source": [
        "<a href=\"https://colab.research.google.com/github/Xoruddy/first-repository1/blob/main/AIFFEL_Quest1.ipynb\" target=\"_parent\"><img src=\"https://colab.research.google.com/assets/colab-badge.svg\" alt=\"Open In Colab\"/></a>"
      ]
    },
    {
      "cell_type": "markdown",
      "source": [
        "Q1. Account 클래스 : 은행에 가서 계좌를 개설하면 은행이름, 예금주, 계좌번호, 잔액이 설정됩니다. Account 클래스를 생성한 후 생성자\n",
        "(hint: 매직매서드..!!)를 구현해보세요. 생성자에서는 예금주와 초기 잔액만 입력 받습니다. 은행이름은 SC은행으로 계좌번호는\n",
        "3자리-2자리-6자리 형태로 랜덤하게 생성됩니다. (은행이름: SC은행, 계좌번호: 111-11-111111)"
      ],
      "metadata": {
        "id": "kZO4MALuAwxC"
      }
    },
    {
      "cell_type": "code",
      "execution_count": null,
      "metadata": {
        "colab": {
          "base_uri": "https://localhost:8080/"
        },
        "id": "cF7KYMLfAGIM",
        "outputId": "3c301f6e-646a-44ff-a2a9-655bdfe52c44"
      },
      "outputs": [
        {
          "output_type": "stream",
          "name": "stdout",
          "text": [
            "은행 이름 = SC은행\n",
            "예금주 = 김용재 고객님\n",
            "계좌번호 =  868-24-169673\n",
            "잔액 =  100000 원\n"
          ]
        }
      ],
      "source": [
        "import random\n",
        "\n",
        "class Account :\n",
        "\n",
        "\n",
        "  def __init__(self, account_holder, at_money):\n",
        "    self.bank_name = \"SC은행\"\n",
        "    self.account_holder = account_holder\n",
        "    self.account_number = self.account_number()\n",
        "    self.at_money = at_money\n",
        "\n",
        "  def account_number(self):\n",
        "    p1 = str(random.randint(100,999))\n",
        "    p2 = str(random.randint(10, 99))\n",
        "    p3 = str(random.randint(100000,999999))\n",
        "    return f\"{p1}-{p2}-{p3}\"\n",
        "\n",
        "c= Account(\"김용재 고객님\", 100000)\n",
        "print(\"은행 이름 =\", c.bank_name)\n",
        "print(\"예금주 =\", c.account_holder)\n",
        "print(\"계좌번호 = \", c.account_number)\n",
        "print(\"잔액 = \", c.at_money , \"원\")\n"
      ]
    },
    {
      "cell_type": "markdown",
      "source": [
        "Q2. 클래스 변수: 클래스 변수를 사용해서 Account 클래스로부터 생성된 계좌 객체의 개수를 저장하세요."
      ],
      "metadata": {
        "id": "8eqpxshkGEah"
      }
    },
    {
      "cell_type": "code",
      "source": [
        "import random\n",
        "\n",
        "\n",
        "\n",
        "class Account :\n",
        "\n",
        "  c_count = 0\n",
        "\n",
        "  def __init__(self, account_holder, at_money):\n",
        "    self.bank_name = \"SC은행\"\n",
        "    self.account_holder = account_holder\n",
        "    self.account_number = self.account_number()\n",
        "    self.at_money = at_money\n",
        "\n",
        "    Account.c_count += 1\n",
        "\n",
        "  def account_number(self):\n",
        "    p1 = str(random.randint(100,999))\n",
        "    p2 = str(random.randint(10, 99))\n",
        "    p3 = str(random.randint(100000,999999))\n",
        "    return f\"{p1}-{p2}-{p3}\"\n",
        "\n",
        "c1= Account(\"김용재 고객님\", 100000)\n",
        "c2= Account(\"윤태경 고객님\", 100000)\n",
        "\n",
        "print(\"은행 이름 =\", c1.bank_name,  \",\" ,c2.bank_name )\n",
        "print(\"예금주 =\", c1.account_holder,  \",\" ,c2.account_holder)\n",
        "print(\"계좌번호 = \", c1.account_number,  \",\" , c2.account_number)\n",
        "print(\"잔액 = \", c1.at_money , \"원\",  \",\" ,c2.at_money , \"원\")\n",
        "print(\"생성된 객체 개수 = \", Account.c_count)\n"
      ],
      "metadata": {
        "colab": {
          "base_uri": "https://localhost:8080/"
        },
        "id": "QjKgn1OkGAh9",
        "outputId": "829c544b-715c-4e6a-a2ce-cf59f817ff37"
      },
      "execution_count": null,
      "outputs": [
        {
          "output_type": "stream",
          "name": "stdout",
          "text": [
            "은행 이름 = SC은행 , SC은행\n",
            "예금주 = 김용재 고객님 , 윤태경 고객님\n",
            "계좌번호 =  768-62-141882 , 704-87-156292\n",
            "잔액 =  100000 원 , 100000 원\n",
            "생성된 객체 개수 =  2\n"
          ]
        }
      ]
    },
    {
      "cell_type": "markdown",
      "source": [
        "Q3. 클래스 변수 출력 : Account 클래스로부터 생성된 계좌의 개수를 출력하는 get_account_num() 메서드를 추가하세요\n",
        "\n",
        "4. 입금 메서드 : Account 클래스에 입금을 위한 deposit 메서드를 추가하세요. 입금은 최소 1원 이상만 가능합니다"
      ],
      "metadata": {
        "id": "_rdj3qJdIGSb"
      }
    },
    {
      "cell_type": "code",
      "source": [
        "import random\n",
        "\n",
        "\n",
        "class Account :\n",
        "\n",
        "  get_account_num = 0\n",
        "\n",
        "  def __init__(self, account_holder, at_money):\n",
        "    self.bank_name = \"SC은행\"\n",
        "    self.account_holder = account_holder\n",
        "    self.account_number = self.account_number()\n",
        "    self.at_money = at_money\n",
        "\n",
        "    Account.get_account_num += 1\n",
        "\n",
        "  def account_number(self):\n",
        "    p1 = str(random.randint(100,999))\n",
        "    p2 = str(random.randint(10, 99))\n",
        "    p3 = str(random.randint(100000,999999))\n",
        "    return f\"{p1}-{p2}-{p3}\"\n",
        "\n",
        "  def deposit(self, total):\n",
        "    if total >= 1:\n",
        "      self.at_money += total\n",
        "      print(f\"{total}원이 입금 완료되었습니다. 잔액은 {self.at_money}원 입니다.\")\n",
        "    else:\n",
        "      print(f\"입금은 최소 1원 이상만 가능합니다\")\n",
        "\n",
        "c1= Account(\"김용재 고객님\", 100000)\n",
        "c2= Account(\"윤태경 고객님\", 100000)\n",
        "\n",
        "print(\"은행 이름 =\", c1.bank_name,  \",\" ,c2.bank_name )\n",
        "print(\"예금주 =\", c1.account_holder,  \",\" ,c2.account_holder)\n",
        "print(\"계좌번호 = \", c1.account_number,  \",\" , c2.account_number)\n",
        "print(\"잔액 = \", c1.at_money , \"원\",  \",\" ,c2.at_money , \"원\")\n",
        "print(\"생성된 객체 개수 = \", Account.get_account_num)\n",
        "\n",
        "c1.deposit(0.5)\n",
        "c2.deposit(100)\n",
        "\n",
        "\n"
      ],
      "metadata": {
        "colab": {
          "base_uri": "https://localhost:8080/"
        },
        "id": "SaOMCXKiIGEv",
        "outputId": "3cbe055d-b9ff-43b0-e2ea-35a11d560828"
      },
      "execution_count": null,
      "outputs": [
        {
          "output_type": "stream",
          "name": "stdout",
          "text": [
            "은행 이름 = SC은행 , SC은행\n",
            "예금주 = 김용재 고객님 , 윤태경 고객님\n",
            "계좌번호 =  752-99-786144 , 612-89-511600\n",
            "잔액 =  100000 원 , 100000 원\n",
            "생성된 객체 개수 =  2\n",
            "입금은 최소 1원 이상만 가능합니다\n",
            "100원이 입금 완료되었습니다. 잔액은 100100원 입니다.\n"
          ]
        }
      ]
    },
    {
      "cell_type": "markdown",
      "source": [
        "출금 메서드 : Account 클래스에 출금을 위한 withdraw 메서드를 추가하세요. 출금은 계좌의 잔고 이상으로 출금할 수는 없습니다\n"
      ],
      "metadata": {
        "id": "PhraGOh-MasH"
      }
    },
    {
      "cell_type": "code",
      "source": [
        "import random\n",
        "\n",
        "\n",
        "class Account :\n",
        "\n",
        "  get_account_num = 0\n",
        "\n",
        "  def __init__(self, account_holder, at_money):\n",
        "    self.bank_name = \"SC은행\"\n",
        "    self.account_holder = account_holder\n",
        "    self.account_number = self.account_number()\n",
        "    self.at_money = at_money\n",
        "\n",
        "    Account.get_account_num += 1\n",
        "\n",
        "  def account_number(self):\n",
        "    p1 = str(random.randint(100,999))\n",
        "    p2 = str(random.randint(10, 99))\n",
        "    p3 = str(random.randint(100000,999999))\n",
        "    return f\"{p1}-{p2}-{p3}\"\n",
        "\n",
        "  def deposit(self, total):\n",
        "    if total >= 1:\n",
        "      self.at_money += total\n",
        "      print(f\"{total}원이 입금 완료되었습니다. 잔액은 {self.at_money}원 입니다.\")\n",
        "    else:\n",
        "      print(f\"입금은 최소 1원 이상만 가능합니다\")\n",
        "\n",
        "  def withdraw(self, amt):\n",
        "    if amt <= 0:\n",
        "      print(\"출금 최소 금액은 0원 이상입니다.\")\n",
        "    elif amt <= self.at_money:\n",
        "      print(f\"{amt} 원 정상 출금 되었습니다. 잔액은 {self.at_money - amt}원 입니다.\")\n",
        "    else:\n",
        "      print(\"출금은 계좌의 잔고 이상으로 출금할 수는 없습니다.\")\n",
        "\n",
        "c1= Account(\"김용재 고객님\", 100000)\n",
        "c2= Account(\"윤태경 고객님\", 100000)\n",
        "\n",
        "print(\"은행 이름 =\", c1.bank_name,  \",\" ,c2.bank_name )\n",
        "print(\"예금주 =\", c1.account_holder,  \",\" ,c2.account_holder)\n",
        "print(\"계좌번호 = \", c1.account_number,  \",\" , c2.account_number)\n",
        "print(\"잔액 = \", c1.at_money , \"원\",  \",\" ,c2.at_money , \"원\")\n",
        "print(\"생성된 객체 개수 = \", Account.get_account_num)\n",
        "\n",
        "c1.deposit(0.5)\n",
        "c2.deposit(100)\n",
        "\n",
        "c1.withdraw(-100)\n",
        "c2.withdraw(200000)\n",
        "\n",
        "\n"
      ],
      "metadata": {
        "colab": {
          "base_uri": "https://localhost:8080/"
        },
        "id": "9bij6ZOcMfpT",
        "outputId": "fa4c73e8-c845-4397-a789-e00c55166924"
      },
      "execution_count": null,
      "outputs": [
        {
          "output_type": "stream",
          "name": "stdout",
          "text": [
            "은행 이름 = SC은행 , SC은행\n",
            "예금주 = 김용재 고객님 , 윤태경 고객님\n",
            "계좌번호 =  526-29-176024 , 315-33-230238\n",
            "잔액 =  100000 원 , 100000 원\n",
            "생성된 객체 개수 =  2\n",
            "입금은 최소 1원 이상만 가능합니다\n",
            "100원이 입금 완료되었습니다. 잔액은 100100원 입니다.\n",
            "출금 최소 금액은 0원 이상입니다.\n",
            "출금은 계좌의 잔고 이상으로 출금할 수는 없습니다.\n"
          ]
        }
      ]
    },
    {
      "cell_type": "markdown",
      "source": [
        "Q6. 정보 출력 메서드 : Account 인스턴스에 저장된 정보를 출력하는 display_info() 메서드를 추가하세요. 잔고는 세자리마다 쉼표를\n",
        "출력하세요.\n",
        "(은행이름: SC은행, 예금주: 파이썬, 계좌번호: 111-11-111111, 잔고: 10,000원\n"
      ],
      "metadata": {
        "id": "GbgQ3BSmOkmv"
      }
    },
    {
      "cell_type": "code",
      "source": [
        "import random\n",
        "\n",
        "\n",
        "class Account :\n",
        "\n",
        "  get_account_num = 0\n",
        "\n",
        "  def __init__(self, account_holder, at_money):\n",
        "    self.bank_name = \"SC은행\"\n",
        "    self.account_holder = account_holder\n",
        "    self.account_number = self.account_number()\n",
        "    self.at_money = at_money\n",
        "\n",
        "    Account.get_account_num += 1\n",
        "\n",
        "  def account_number(self):\n",
        "    p1 = str(random.randint(100,999))\n",
        "    p2 = str(random.randint(10, 99))\n",
        "    p3 = str(random.randint(100000,999999))\n",
        "    return f\"{p1}-{p2}-{p3}\"\n",
        "\n",
        "  def deposit(self, total):\n",
        "    if total >= 1:\n",
        "      self.at_money += total\n",
        "      print(f\"{total}원이 입금 완료되었습니다. 잔액은 {self.at_money}원 입니다.\")\n",
        "    else:\n",
        "      print(f\"입금은 최소 1원 이상만 가능합니다\")\n",
        "\n",
        "  def withdraw(self, amt):\n",
        "    if amt <= 0:\n",
        "      print(\"출금 최소 금액은 0원 이상입니다.\")\n",
        "    elif amt <= self.at_money:\n",
        "      print(f\"{amt} 원 정상 출금 되었습니다. 잔액은 {self.at_money - amt}원 입니다.\")\n",
        "    else:\n",
        "      print(\"출금은 계좌의 잔고 이상으로 출금할 수는 없습니다.\")\n",
        "\n",
        "  def display_info(self):\n",
        "    at_money2=f\"{self.at_money:,}\"\n",
        "    print(f\"은행이름 : {self.bank_name}, 예금주 : {self.account_holder}, 계좌번호 :{self.account_number}, 잔고 : {at_money2}\")\n",
        "\n",
        "c1= Account(\"김용재 고객님\", 100000)\n",
        "c2= Account(\"윤태경 고객님\", 100000)\n",
        "\n",
        "print(\"은행 이름 =\", c1.bank_name,  \",\" ,c2.bank_name )\n",
        "print(\"예금주 =\", c1.account_holder,  \",\" ,c2.account_holder)\n",
        "print(\"계좌번호 = \", c1.account_number,  \",\" , c2.account_number)\n",
        "print(\"잔액 = \", c1.at_money , \"원\",  \",\" ,c2.at_money , \"원\")\n",
        "print(\"생성된 객체 개수 = \", Account.get_account_num)\n",
        "\n",
        "c1.deposit(0.5)\n",
        "c2.deposit(100)\n",
        "\n",
        "c1.withdraw(-100)\n",
        "c2.withdraw(200000)\n",
        "\n",
        "c1.display_info()\n"
      ],
      "metadata": {
        "id": "JomIrftYOqr8",
        "colab": {
          "base_uri": "https://localhost:8080/"
        },
        "outputId": "4c852a22-a748-477d-a7c8-67e4118e00cb"
      },
      "execution_count": null,
      "outputs": [
        {
          "output_type": "stream",
          "name": "stdout",
          "text": [
            "은행 이름 = SC은행 , SC은행\n",
            "예금주 = 김용재 고객님 , 윤태경 고객님\n",
            "계좌번호 =  143-95-324336 , 198-45-427141\n",
            "잔액 =  100000 원 , 100000 원\n",
            "생성된 객체 개수 =  2\n",
            "입금은 최소 1원 이상만 가능합니다\n",
            "100원이 입금 완료되었습니다. 잔액은 100100원 입니다.\n",
            "출금 최소 금액은 0원 이상입니다.\n",
            "출금은 계좌의 잔고 이상으로 출금할 수는 없습니다.\n",
            "은행이름 : SC은행, 예금주 : 김용재 고객님, 계좌번호 :143-95-324336, 잔고 : 100,000\n"
          ]
        }
      ]
    },
    {
      "cell_type": "markdown",
      "source": [
        "Q7. 이자 지급하기 입금 횟수가 5회가 될 때 잔고를 기준으로 1%의 이자가 잔고에 추가되도록 코드를 변경해보세요."
      ],
      "metadata": {
        "id": "xrpxtsC2S2ia"
      }
    },
    {
      "cell_type": "code",
      "source": [
        "import random\n",
        "\n",
        "\n",
        "class Account :\n",
        "\n",
        "  get_account_num = 0\n",
        "\n",
        "  def __init__(self, account_holder, at_money):\n",
        "    self.bank_name = \"SC은행\"\n",
        "    self.account_holder = account_holder\n",
        "    self.account_number = self.account_number()\n",
        "    self.at_money = at_money\n",
        "\n",
        "    Account.get_account_num += 1\n",
        "\n",
        "  def account_number(self):\n",
        "    p1 = str(random.randint(100,999))\n",
        "    p2 = str(random.randint(10, 99))\n",
        "    p3 = str(random.randint(100000,999999))\n",
        "    return f\"{p1}-{p2}-{p3}\"\n",
        "\n",
        "  def deposit(self, total):\n",
        "    if total >= 1:\n",
        "      self.at_money += total\n",
        "      print(f\"{total}원이 입금 완료되었습니다. 잔액은 {self.at_money}원 입니다.\")\n",
        "    else:\n",
        "      print(f\"입금은 최소 1원 이상만 가능합니다\")\n",
        "\n",
        "  def withdraw(self, amt):\n",
        "    if amt <= 0:\n",
        "      print(\"출금 최소 금액은 0원 이상입니다.\")\n",
        "    elif amt <= self.at_money:\n",
        "      print(f\"{amt} 원 정상 출금 되었습니다. 잔액은 {self.at_money - amt}원 입니다.\")\n",
        "    else:\n",
        "      print(\"출금은 계좌의 잔고 이상으로 출금할 수는 없습니다.\")\n",
        "\n",
        "  def display_info(self):\n",
        "    at_money2=f\"{self.at_money:,}\"\n",
        "    print(f\"은행이름 : {self.bank_name}, 예금주 : {self.account_holder}, 계좌번호 :{self.account_number}, 잔고 : {at_money2}\")\n",
        "\n",
        "  def interest(self, count):\n",
        "      if count >= 5 and count % 5 == 0:\n",
        "        at_money3 = self.at_money  + self.at_money * 0.1\n",
        "        print(f\"{at_money3}원\")\n",
        "\n",
        "c1= Account(\"김용재 고객님\", 100000)\n",
        "c2= Account(\"윤태경 고객님\", 100000)\n",
        "\n",
        "print(\"은행 이름 =\", c1.bank_name,  \",\" ,c2.bank_name )\n",
        "print(\"예금주 =\", c1.account_holder,  \",\" ,c2.account_holder)\n",
        "print(\"계좌번호 = \", c1.account_number,  \",\" , c2.account_number)\n",
        "print(\"잔액 = \", c1.at_money , \"원\",  \",\" ,c2.at_money , \"원\")\n",
        "print(\"생성된 객체 개수 = \", Account.get_account_num)\n",
        "\n",
        "c1.deposit(0.5)\n",
        "c2.deposit(100)\n",
        "\n",
        "c1.withdraw(-100)\n",
        "c2.withdraw(200000)\n",
        "\n",
        "c1.display_info()\n",
        "\n",
        "c1.interest(5)\n"
      ],
      "metadata": {
        "id": "0PS_JyqeS5dj",
        "colab": {
          "base_uri": "https://localhost:8080/"
        },
        "outputId": "b153604c-8de0-4557-e8e8-08a0d38770ba"
      },
      "execution_count": null,
      "outputs": [
        {
          "output_type": "stream",
          "name": "stdout",
          "text": [
            "은행 이름 = SC은행 , SC은행\n",
            "예금주 = 김용재 고객님 , 윤태경 고객님\n",
            "계좌번호 =  187-34-168635 , 113-99-144366\n",
            "잔액 =  100000 원 , 100000 원\n",
            "생성된 객체 개수 =  2\n",
            "입금은 최소 1원 이상만 가능합니다\n",
            "100원이 입금 완료되었습니다. 잔액은 100100원 입니다.\n",
            "출금 최소 금액은 0원 이상입니다.\n",
            "출금은 계좌의 잔고 이상으로 출금할 수는 없습니다.\n",
            "은행이름 : SC은행, 예금주 : 김용재 고객님, 계좌번호 :187-34-168635, 잔고 : 100,000\n",
            "110000.0원\n"
          ]
        }
      ]
    },
    {
      "cell_type": "markdown",
      "source": [
        "Q8. 여러 객체 생성 Account 클래스로부터 3개 이상 인스턴스를 생성하고 생성된 인스턴스를 리스트에 저장해보세요"
      ],
      "metadata": {
        "id": "fs_Yds6UV4mH"
      }
    },
    {
      "cell_type": "code",
      "source": [
        "import random\n",
        "\n",
        "\n",
        "class Account :\n",
        "\n",
        "  get_account_num = 0\n",
        "\n",
        "  def __init__(self, account_holder, at_money):\n",
        "    self.bank_name = \"SC은행\"\n",
        "    self.account_holder = account_holder\n",
        "    self.account_number = self.account_number()\n",
        "    self.at_money = at_money\n",
        "\n",
        "    Account.get_account_num += 1\n",
        "\n",
        "  def account_number(self):\n",
        "    p1 = str(random.randint(100,999))\n",
        "    p2 = str(random.randint(10, 99))\n",
        "    p3 = str(random.randint(100000,999999))\n",
        "    return f\"{p1}-{p2}-{p3}\"\n",
        "\n",
        "  def deposit(self, total):\n",
        "    if total >= 1:\n",
        "      self.at_money += total\n",
        "      print(f\"{total}원이 입금 완료되었습니다. 잔액은 {self.at_money}원 입니다.\")\n",
        "    else:\n",
        "      print(f\"입금은 최소 1원 이상만 가능합니다\")\n",
        "\n",
        "  def withdraw(self, amt):\n",
        "    if amt <= 0:\n",
        "      print(\"출금 최소 금액은 0원 이상입니다.\")\n",
        "    elif amt <= self.at_money:\n",
        "      print(f\"{amt} 원 정상 출금 되었습니다. 잔액은 {self.at_money - amt}원 입니다.\")\n",
        "    else:\n",
        "      print(\"출금은 계좌의 잔고 이상으로 출금할 수는 없습니다.\")\n",
        "\n",
        "  def display_info(self):\n",
        "    at_money2=f\"{self.at_money:,}\"\n",
        "    print(f\"은행이름 : {self.bank_name}, 예금주 : {self.account_holder}, 계좌번호 :{self.account_number}, 잔고 : {at_money2}\")\n",
        "\n",
        "  def interest(self, count):\n",
        "      if count >= 5 and count % 5 == 0:\n",
        "        at_money3 = self.at_money  + self.at_money * 0.1\n",
        "        print(f\"{at_money3}원\")\n",
        "\n",
        "c1= Account(\"김용재 고객님\", 100000)\n",
        "c2 = Account(\"윤태경 고객님\", 100000)\n",
        "c3 = Account(\"김소연 고객님\", 10000000)\n",
        "\n",
        "print(\"은행 이름 =\", c1.bank_name,  \",\" ,c2.bank_name )\n",
        "print(\"예금주 =\", c1.account_holder,  \",\" ,c2.account_holder)\n",
        "print(\"계좌번호 = \", c1.account_number,  \",\" , c2.account_number)\n",
        "print(\"잔액 = \", c1.at_money , \"원\",  \",\" ,c2.at_money , \"원\")\n",
        "print(\"생성된 객체 개수 = \", Account.get_account_num)\n",
        "\n",
        "c1.deposit(0.5)\n",
        "c2.deposit(100)\n",
        "\n",
        "c1.withdraw(-100)\n",
        "c2.withdraw(200000)\n",
        "\n",
        "\n",
        "c1.display_info()\n",
        "\n",
        "c1.interest(5)\n",
        "\n",
        "accounts = []\n",
        "accounts.append(Account(\"김용재 고객님\", 100000))\n",
        "accounts.append(Account(\"윤태경 고객님\", 100000))\n",
        "accounts.append(Account(\"김소연 고객님\", 10000000))\n"
      ],
      "metadata": {
        "colab": {
          "base_uri": "https://localhost:8080/"
        },
        "id": "FcExjpE6V-E6",
        "outputId": "b94304e2-ed31-4145-c3bc-e6ef3d281482"
      },
      "execution_count": null,
      "outputs": [
        {
          "output_type": "stream",
          "name": "stdout",
          "text": [
            "은행 이름 = SC은행 , SC은행\n",
            "예금주 = 김용재 고객님 , 윤태경 고객님\n",
            "계좌번호 =  697-30-509481 , 757-41-698100\n",
            "잔액 =  100000 원 , 100000 원\n",
            "생성된 객체 개수 =  3\n",
            "입금은 최소 1원 이상만 가능합니다\n",
            "100원이 입금 완료되었습니다. 잔액은 100100원 입니다.\n",
            "출금 최소 금액은 0원 이상입니다.\n",
            "출금은 계좌의 잔고 이상으로 출금할 수는 없습니다.\n",
            "은행이름 : SC은행, 예금주 : 김용재 고객님, 계좌번호 :697-30-509481, 잔고 : 100,000\n",
            "110000.0원\n"
          ]
        }
      ]
    },
    {
      "cell_type": "markdown",
      "source": [
        "Q9. 객체 순회 반복문을 통해 리스트에 있는 객체를 순회하면서 잔고가 100만원 이상인 고객의 정보만 출력하세요"
      ],
      "metadata": {
        "id": "9z-vNqE3XRh4"
      }
    },
    {
      "cell_type": "code",
      "source": [
        "import random\n",
        "\n",
        "\n",
        "class Account :\n",
        "\n",
        "  get_account_num = 0\n",
        "\n",
        "  def __init__(self, account_holder, at_money):\n",
        "    self.bank_name = \"SC은행\"\n",
        "    self.account_holder = account_holder\n",
        "    self.account_number = self.account_number()\n",
        "    self.at_money = at_money\n",
        "\n",
        "    Account.get_account_num += 1\n",
        "\n",
        "  def account_number(self):\n",
        "    p1 = str(random.randint(100,999))\n",
        "    p2 = str(random.randint(10, 99))\n",
        "    p3 = str(random.randint(100000,999999))\n",
        "    return f\"{p1}-{p2}-{p3}\"\n",
        "\n",
        "  def deposit(self, total):\n",
        "    if total >= 1:\n",
        "      self.at_money += total\n",
        "      print(f\"{total}원이 입금 완료되었습니다. 잔액은 {self.at_money}원 입니다.\")\n",
        "    else:\n",
        "      print(f\"입금은 최소 1원 이상만 가능합니다\")\n",
        "\n",
        "  def withdraw(self, amt):\n",
        "    if amt <= 0:\n",
        "      print(\"출금 최소 금액은 0원 이상입니다.\")\n",
        "    elif amt <= self.at_money:\n",
        "      print(f\"{amt} 원 정상 출금 되었습니다. 잔액은 {self.at_money - amt}원 입니다.\")\n",
        "    else:\n",
        "      print(\"출금은 계좌의 잔고 이상으로 출금할 수는 없습니다.\")\n",
        "\n",
        "  def display_info(self):\n",
        "    at_money2=f\"{self.at_money:,}\"\n",
        "    print(f\"은행이름 : {self.bank_name}, 예금주 : {self.account_holder}, 계좌번호 :{self.account_number}, 잔고 : {at_money2}\")\n",
        "\n",
        "  def interest(self, count):\n",
        "      if count >= 5 and count % 5 == 0:\n",
        "        at_money3 = self.at_money  + self.at_money * 0.1\n",
        "        print(f\"{at_money3}원\")\n",
        "\n",
        "c1= Account(\"김용재 고객님\", 100000)\n",
        "c2 = Account(\"윤태경 고객님\", 100000)\n",
        "c3 = Account(\"김소연 고객님\", 10000000)\n",
        "\n",
        "print(\"은행 이름 =\", c1.bank_name,  \",\" ,c2.bank_name )\n",
        "print(\"예금주 =\", c1.account_holder,  \",\" ,c2.account_holder)\n",
        "print(\"계좌번호 = \", c1.account_number,  \",\" , c2.account_number)\n",
        "print(\"잔액 = \", c1.at_money , \"원\",  \",\" ,c2.at_money , \"원\")\n",
        "print(\"생성된 객체 개수 = \", Account.get_account_num)\n",
        "\n",
        "c1.deposit(0.5)\n",
        "c2.deposit(100)\n",
        "\n",
        "c1.withdraw(-100)\n",
        "c2.withdraw(200000)\n",
        "\n",
        "\n",
        "c1.display_info()\n",
        "\n",
        "c1.interest(5)\n",
        "\n",
        "accounts = []\n",
        "accounts.append(Account(\"김용재 고객님\", 100000))\n",
        "accounts.append(Account(\"윤태경 고객님\", 100000))\n",
        "accounts.append(Account(\"김소연 고객님\", 10000000))\n",
        "\n",
        "\n",
        "#객체순회\n",
        "print(\"잔고가 100만원 이상인 고객 정보 : \")\n",
        "for account in accounts :\n",
        "  if account.at_money >= 1000000:\n",
        "    account.display_info()\n"
      ],
      "metadata": {
        "colab": {
          "base_uri": "https://localhost:8080/"
        },
        "id": "8n559jy2XghM",
        "outputId": "2b2b0c63-f1cb-4ec8-acb1-ad7c2798b39d"
      },
      "execution_count": null,
      "outputs": [
        {
          "output_type": "stream",
          "name": "stdout",
          "text": [
            "은행 이름 = SC은행 , SC은행\n",
            "예금주 = 김용재 고객님 , 윤태경 고객님\n",
            "계좌번호 =  745-68-562857 , 376-41-717327\n",
            "잔액 =  100000 원 , 100000 원\n",
            "생성된 객체 개수 =  3\n",
            "입금은 최소 1원 이상만 가능합니다\n",
            "100원이 입금 완료되었습니다. 잔액은 100100원 입니다.\n",
            "출금 최소 금액은 0원 이상입니다.\n",
            "출금은 계좌의 잔고 이상으로 출금할 수는 없습니다.\n",
            "은행이름 : SC은행, 예금주 : 김용재 고객님, 계좌번호 :745-68-562857, 잔고 : 100,000\n",
            "110000.0원\n",
            "은행이름 : SC은행, 예금주 : 김소연 고객님, 계좌번호 :587-44-447448, 잔고 : 10,000,000\n",
            "잔고가 100만원 이상인 고객 정보 : \n"
          ]
        }
      ]
    },
    {
      "cell_type": "markdown",
      "source": [
        "Q10. 입금과 출금 내역이 기록되도록 코드를 업데이트 하세요.\n",
        "(입금 내역과 출금 내역을 출력하는 deposit_history와 withdraw_history 메서드를 추가하세요.)"
      ],
      "metadata": {
        "id": "QHhElW6DYOt5"
      }
    },
    {
      "cell_type": "code",
      "source": [
        "import random\n",
        "\n",
        "class Account:\n",
        "    get_account_num = 0\n",
        "\n",
        "    def __init__(self, account_holder, at_money):\n",
        "        self.bank_name = \"SC은행\"\n",
        "        self.account_holder = account_holder\n",
        "        self.account_number = self.generate_account_number()\n",
        "        self.at_money = at_money\n",
        "\n",
        "        self.deposit_history = []  # 입금 내역 리스트\n",
        "        self.withdraw_history = []  # 출금 내역 리스트\n",
        "\n",
        "        Account.get_account_num += 1\n",
        "\n",
        "    def generate_account_number(self):\n",
        "        p1 = str(random.randint(100, 999))\n",
        "        p2 = str(random.randint(10, 99))\n",
        "        p3 = str(random.randint(100000, 999999))\n",
        "        return f\"{p1}-{p2}-{p3}\"\n",
        "\n",
        "    def deposit(self, total):\n",
        "        if total >= 1:\n",
        "            self.at_money += total\n",
        "            self.deposit_history.append(total)  # 입금 내역 추가\n",
        "            print(f\"{total}원이 입금 완료되었습니다. 잔액은 {self.at_money:,}원 입니다.\")\n",
        "        else:\n",
        "            print(\"입금은 최소 1원 이상만 가능합니다\")\n",
        "\n",
        "    def withdraw(self, amt):\n",
        "        if amt <= 0:\n",
        "            print(\"출금 최소 금액은 0원 이상입니다.\")\n",
        "        elif amt <= self.at_money:\n",
        "            self.at_money -= amt  # 잔고 차감\n",
        "            self.withdraw_history.append(amt)  # 출금 내역 추가\n",
        "            print(f\"{amt}원이 정상 출금 되었습니다. 잔액은 {self.at_money:,}원 입니다.\")\n",
        "        else:\n",
        "            print(\"출금은 계좌의 잔고 이상으로 출금할 수는 없습니다.\")\n",
        "\n",
        "    def display_info(self):\n",
        "        formatted_balance = f\"{self.at_money:,}\"\n",
        "        print(f\"은행이름: {self.bank_name}, 예금주: {self.account_holder}, 계좌번호: {self.account_number}, 잔고: {formatted_balance}원\")\n",
        "\n",
        "    def interest(self, count):\n",
        "        if count >= 5 and count % 5 == 0:\n",
        "            interest_amount = self.at_money * 0.01  # 1% 이자\n",
        "            self.at_money += interest_amount\n",
        "            print(f\"이자가 지급되었습니다: {interest_amount:,}원. 잔액은 {self.at_money:,}원 입니다.\")\n",
        "\n",
        "    def show_deposit_history(self):\n",
        "        if self.deposit_history:\n",
        "            print(\"입금 내역:\")\n",
        "            for amount in self.deposit_history:\n",
        "                print(f\"{amount:,}원\")\n",
        "        else:\n",
        "            print(\"입금 내역이 없습니다.\")\n",
        "\n",
        "    def show_withdraw_history(self):\n",
        "        if self.withdraw_history:\n",
        "            print(\"출금 내역:\")\n",
        "            for amount in self.withdraw_history:\n",
        "                print(f\"{amount:,}원\")\n",
        "        else:\n",
        "            print(\"출금 내역이 없습니다.\")\n",
        "\n",
        "# 인스턴스를 저장할 리스트 생성\n",
        "accounts = []\n",
        "accounts.append(Account(\"김용재 고객님\", 100000))\n",
        "accounts.append(Account(\"윤태경 고객님\", 100000))\n",
        "accounts.append(Account(\"김소연 고객님\", 10000000))\n",
        "\n",
        "# 테스트\n",
        "c1 = accounts[0]\n",
        "c1.deposit(50000)\n",
        "c1.withdraw(10000)\n",
        "\n",
        "# 내역 출력\n",
        "c1.display_info()\n",
        "c1.show_deposit_history()\n",
        "c1.show_withdraw_history()\n",
        "\n",
        "# 잔고가 100만 원 이상인 고객 정보 출력\n",
        "print(\"\\n잔고가 100만원 이상인 고객 정보:\")\n",
        "for account in accounts:\n",
        "    if account.at_money >= 1000000:\n",
        "        account.display_info()\n"
      ],
      "metadata": {
        "colab": {
          "base_uri": "https://localhost:8080/"
        },
        "id": "Z9eKx5LiawPF",
        "outputId": "c6f5c4c1-18c7-44c8-824d-5e148f007a8a"
      },
      "execution_count": 28,
      "outputs": [
        {
          "output_type": "stream",
          "name": "stdout",
          "text": [
            "50000원이 입금 완료되었습니다. 잔액은 150,000원 입니다.\n",
            "10000원이 정상 출금 되었습니다. 잔액은 140,000원 입니다.\n",
            "은행이름: SC은행, 예금주: 김용재 고객님, 계좌번호: 320-65-673763, 잔고: 140,000원\n",
            "입금 내역:\n",
            "50,000원\n",
            "출금 내역:\n",
            "10,000원\n",
            "\n",
            "잔고가 100만원 이상인 고객 정보:\n",
            "은행이름: SC은행, 예금주: 김소연 고객님, 계좌번호: 802-21-985409, 잔고: 10,000,000원\n"
          ]
        }
      ]
    }
  ]
}